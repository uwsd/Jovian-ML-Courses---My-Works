{
 "cells": [
  {
   "cell_type": "markdown",
   "metadata": {},
   "source": [
    "# My (uwsd) works on:\n",
    "\n",
    "> ## Data Analysis with Python: Zero to Pandas\n",
    "By **[Aakash](https://twitter.com/aakashns)**, August 2020, [Jovian ML certified Course](https://jovian.ml/learn/data-analysis-with-python-zero-to-pandas)\n",
    "> ### Week 1 - Part 1\n",
    "\n",
    "[![Python](https://img.shields.io/badge/python-3.8.5-blue)]()\n",
    "[![pandas](https://img.shields.io/badge/pandas-1.1.0-blue)]()\n",
    "[![numpy](https://img.shields.io/badge/numpy-1.19.1-blue)]()\n",
    "[![matplotlib](https://img.shields.io/badge/matplotlib-3.3.0-blue)]()\n",
    "[![seaborn](https://img.shields.io/badge/seaborn-0.10.1-blue)]()\n",
    "<!-- [![Tensorflow](https://img.shields.io/badge/tensorflow-2.4.0--dev20200801-blue)]() -->\n",
    "\n",
    "---"
   ]
  },
  {
   "cell_type": "code",
   "execution_count": 1,
   "metadata": {},
   "outputs": [
    {
     "data": {
      "application/javascript": [
       "if (window.IPython && IPython.notebook.kernel) IPython.notebook.kernel.execute('jovian.utils.jupyter.get_notebook_name_saved = lambda: \"' + IPython.notebook.notebook_name + '\"')"
      ],
      "text/plain": [
       "<IPython.core.display.Javascript object>"
      ]
     },
     "metadata": {},
     "output_type": "display_data"
    },
    {
     "name": "stdout",
     "output_type": "stream",
     "text": [
      "uwsd \n",
      "last updated: Sun Aug 16 2020 15:44:29 \n",
      "\n",
      "CPython 3.8.5\n",
      "IPython 7.17.0\n",
      "\n",
      "numpy 1.19.1\n",
      "pandas 1.1.0\n",
      "matplotlib 3.3.1\n",
      "seaborn 0.10.1\n",
      "jovian 0.2.18\n"
     ]
    }
   ],
   "source": [
    "%reload_ext watermark\n",
    "%watermark -a uwsd -u -v -n -t -p numpy,pandas,matplotlib,seaborn,jovian"
   ]
  },
  {
   "cell_type": "code",
   "execution_count": 2,
   "metadata": {},
   "outputs": [],
   "source": [
    "import numpy as np\n",
    "import pandas as pd\n",
    "\n",
    "%matplotlib inline\n",
    "from matplotlib import pyplot as plt\n",
    "%matplotlib inline\n",
    "plt.rcParams.update({\n",
    "    'figure.figsize': (12, 8),\n",
    "    'axes.spines.right': False,\n",
    "    'axes.spines.left': True,\n",
    "    'axes.spines.top': False,\n",
    "    'axes.spines.bottom': True})\n",
    "\n",
    "import seaborn as sns\n",
    "\n",
    "import jovian"
   ]
  },
  {
   "cell_type": "markdown",
   "metadata": {},
   "source": [
    "---"
   ]
  },
  {
   "cell_type": "markdown",
   "metadata": {},
   "source": [
    "# Week 1: First Steps with Python and Jupyter \n",
    "## Part 1 of \"A Gentle Introduction to Programming with Python\"\n",
    "\n",
    "The following topics are covered in this tutorial:\n",
    "\n",
    "* Performing arithmetic operations using Python\n",
    "* Solving multi-step problems using variables\n",
    "* Evaluating conditions using Python\n",
    "* Combining conditions with logical operators\n",
    "* Adding text styles using Markdown"
   ]
  },
  {
   "cell_type": "markdown",
   "metadata": {},
   "source": [
    "---\n",
    "## Performing Arithmetic Operations using Python\n",
    "\n",
    "Let's begin by using Python as a calculator. You can write and execute Python using a code cell within Jupyter. \n",
    "\n",
    "> **Working with Cells**: To create a new cell within Jupyter, you can select \"Insert > Insert Cell Below\" from the menu bar or just press the \"+\" button on the toolbar. You can also use the keyboard shortcut `Esc+B` to create a new cell. Once a cell is created, click on it to select it. You can then change the cell type to code or markdown (text) using \"Cell > Cell Type\" menu option. You can also use the keyboard shortcuts `Esc+Y` and `Esc+M`. Double click a cell to edit the content within the cell. To apply your changes and run a cell, use the \"Cell > Run Cells\" menu option or click the \"Run\" button on the toolbar or just use the keyboard shortcut `Shift+Enter`. You can see a full list of keyboard shortcuts using the \"Help > Keyboard Shortcuts\" menu option.\n",
    "\n",
    "Run the code cells below to perform calculations and view their result. Try changing the numbers and run the changed cells again to see updated results. Can you guess what the `//`, `%` and `**` operators are used for?\n",
    "\n",
    "---"
   ]
  },
  {
   "cell_type": "code",
   "execution_count": 3,
   "metadata": {},
   "outputs": [
    {
     "data": {
      "text/plain": [
       "14"
      ]
     },
     "execution_count": 3,
     "metadata": {},
     "output_type": "execute_result"
    }
   ],
   "source": [
    "2 + 3 + 9"
   ]
  },
  {
   "cell_type": "code",
   "execution_count": 4,
   "metadata": {},
   "outputs": [
    {
     "data": {
      "text/plain": [
       "26"
      ]
     },
     "execution_count": 4,
     "metadata": {},
     "output_type": "execute_result"
    }
   ],
   "source": [
    "99 - 73"
   ]
  },
  {
   "cell_type": "code",
   "execution_count": 5,
   "metadata": {
    "scrolled": true
   },
   "outputs": [
    {
     "data": {
      "text/plain": [
       "-33709.28"
      ]
     },
     "execution_count": 5,
     "metadata": {},
     "output_type": "execute_result"
    }
   ],
   "source": [
    "23.54 * -1432"
   ]
  },
  {
   "cell_type": "code",
   "execution_count": 6,
   "metadata": {},
   "outputs": [
    {
     "data": {
      "text/plain": [
       "14.285714285714286"
      ]
     },
     "execution_count": 6,
     "metadata": {},
     "output_type": "execute_result"
    }
   ],
   "source": [
    "100 / 7"
   ]
  },
  {
   "cell_type": "code",
   "execution_count": 7,
   "metadata": {},
   "outputs": [
    {
     "data": {
      "text/plain": [
       "14"
      ]
     },
     "execution_count": 7,
     "metadata": {},
     "output_type": "execute_result"
    }
   ],
   "source": [
    "100 // 7"
   ]
  },
  {
   "cell_type": "code",
   "execution_count": 8,
   "metadata": {},
   "outputs": [
    {
     "data": {
      "text/plain": [
       "2"
      ]
     },
     "execution_count": 8,
     "metadata": {},
     "output_type": "execute_result"
    }
   ],
   "source": [
    "100 % 7"
   ]
  },
  {
   "cell_type": "code",
   "execution_count": 9,
   "metadata": {},
   "outputs": [
    {
     "data": {
      "text/plain": [
       "125"
      ]
     },
     "execution_count": 9,
     "metadata": {},
     "output_type": "execute_result"
    }
   ],
   "source": [
    "5 ** 3"
   ]
  },
  {
   "cell_type": "markdown",
   "metadata": {},
   "source": [
    "As you might expect, certain operators like `/` and `*` take precendence over other operators like `+` and `-` as per mathematical conventions. You can use parantheses i.e. `(` and `)` to specify the order in which operations are performed."
   ]
  },
  {
   "cell_type": "code",
   "execution_count": 10,
   "metadata": {},
   "outputs": [
    {
     "data": {
      "text/plain": [
       "1.53125"
      ]
     },
     "execution_count": 10,
     "metadata": {},
     "output_type": "execute_result"
    }
   ],
   "source": [
    "((2 + 5) * (17 - 3)) / (4 ** 3)"
   ]
  },
  {
   "cell_type": "markdown",
   "metadata": {},
   "source": [
    "---\n",
    "Python supports the following arithmetic operators:\n",
    "\n",
    "| Operator   | Purpose           | Example     | Result    |\n",
    "|------------|-------------------|-------------|-----------|\n",
    "| `+`        | Addition          | `2 + 3`     | `5`       |\n",
    "| `-`        | Subtraction       | `3 - 2`     | `1`       |\n",
    "| `*`        | Multiplication    | `8 * 12`    | `96`      |\n",
    "| `/`        | Division          | `100 / 7`   | `14.28..` |\n",
    "| `//`       | Floor Division    | `100 // 7`  | `14`      |    \n",
    "| `%`        | Modulus/Remainder | `100 % 7`   | `2`       |\n",
    "| `**`       | Exponent          | `5 ** 3`    | `125`     |\n",
    "\n",
    "---"
   ]
  },
  {
   "cell_type": "markdown",
   "metadata": {},
   "source": [
    "## Solving multi-step problems using variables\n",
    "\n",
    "Let's try solving the following word problem using Python: \n",
    "\n",
    "> A grocery store sells a bag of ice for $1.25, and makes 20% profit. If it sells 500 bags of ice, how much total profit does it make?\n",
    "\n",
    "We can list out the information provided, and gradually convert the word problem into a mathematical expression which can be evaluated using Python. \n",
    "\n",
    "*Cost of ice bag ($)* = 1.25\n",
    "\n",
    "*Profit margin* = 20% = .2\n",
    "\n",
    "*Profit per bag ($)* = profit margin * cost of ice bag = .2 * 1.25\n",
    "\n",
    "*No. of bags* = 500\n",
    "\n",
    "*Total profit* = no. of bags * profit per bag = 500 * (.2 * 1.25)\n",
    "\n",
    "---"
   ]
  },
  {
   "cell_type": "code",
   "execution_count": 11,
   "metadata": {},
   "outputs": [
    {
     "data": {
      "text/plain": [
       "125.0"
      ]
     },
     "execution_count": 11,
     "metadata": {},
     "output_type": "execute_result"
    }
   ],
   "source": [
    "500 * (.2 * 1.25)"
   ]
  },
  {
   "cell_type": "markdown",
   "metadata": {},
   "source": [
    "---\n",
    "Thus, the grocery store makes a total profit of $125.0 . While this is a reasonable way to solve a problem, it's not quite clear by looking at the code cell what the numbers represent. We can give names to each of the numbers by creating Python *variables*.\n",
    "\n",
    "> **Variables**: While working with a programming language such as Python, informations is stored in *variables*. You can think of variables as containers for storing data. The data stored within a variable is called it's *value*."
   ]
  },
  {
   "cell_type": "code",
   "execution_count": 12,
   "metadata": {},
   "outputs": [],
   "source": [
    "cost_of_ice_bag = 1.25"
   ]
  },
  {
   "cell_type": "code",
   "execution_count": 13,
   "metadata": {},
   "outputs": [],
   "source": [
    "profit_margin = .2"
   ]
  },
  {
   "cell_type": "code",
   "execution_count": 14,
   "metadata": {},
   "outputs": [],
   "source": [
    "number_of_bags = 500"
   ]
  },
  {
   "cell_type": "markdown",
   "metadata": {},
   "source": [
    "The variables `cost_of_ice_bag`, `profit_margin` and `number_of_bags` now contain the information provided in the word problem. We can check the value of a variable by typing its name into a cell, and we can combine variables using arithmetic operations to create other variables.\n",
    "\n",
    "> Tip: While typing the name of an existing variable in a code cell within Jupyter, you can type the first few characters and press the `Tab` key to autocomplete the variable's name. Try typing `pro` in a code cell below and press `Tab` to autocomplete to `profit_margin`."
   ]
  },
  {
   "cell_type": "code",
   "execution_count": 15,
   "metadata": {},
   "outputs": [
    {
     "data": {
      "text/plain": [
       "0.2"
      ]
     },
     "execution_count": 15,
     "metadata": {},
     "output_type": "execute_result"
    }
   ],
   "source": [
    "profit_margin"
   ]
  },
  {
   "cell_type": "code",
   "execution_count": 16,
   "metadata": {},
   "outputs": [],
   "source": [
    "profit_per_bag = cost_of_ice_bag * profit_margin"
   ]
  },
  {
   "cell_type": "code",
   "execution_count": 17,
   "metadata": {},
   "outputs": [
    {
     "data": {
      "text/plain": [
       "0.25"
      ]
     },
     "execution_count": 17,
     "metadata": {},
     "output_type": "execute_result"
    }
   ],
   "source": [
    "profit_per_bag"
   ]
  },
  {
   "cell_type": "code",
   "execution_count": 18,
   "metadata": {},
   "outputs": [],
   "source": [
    "total_profit = number_of_bags * profit_per_bag"
   ]
  },
  {
   "cell_type": "code",
   "execution_count": 19,
   "metadata": {},
   "outputs": [
    {
     "data": {
      "text/plain": [
       "125.0"
      ]
     },
     "execution_count": 19,
     "metadata": {},
     "output_type": "execute_result"
    }
   ],
   "source": [
    "total_profit"
   ]
  },
  {
   "cell_type": "markdown",
   "metadata": {},
   "source": [
    "---\n",
    "If you try to see the value of a variable that has not been *defined* i.e. given a value using the assignment statement `variable_name = value`, then Python shows an error.\n",
    "\n",
    "---"
   ]
  },
  {
   "cell_type": "code",
   "execution_count": 22,
   "metadata": {},
   "outputs": [
    {
     "name": "stdout",
     "output_type": "stream",
     "text": [
      "Error: name 'net_profit' is not defined\n"
     ]
    }
   ],
   "source": [
    "try:\n",
    "    net_profit\n",
    "except NameError as ne:\n",
    "    print(f'Error: {ne}')"
   ]
  },
  {
   "cell_type": "markdown",
   "metadata": {},
   "source": [
    "---\n",
    "Storing and manipulating data using appropriately named variables is a great way to explain what your code does.\n",
    "\n",
    "Let's display the result of the word problem using a friendly message. We can do this using the `print` *function*.\n",
    "\n",
    "> **Functions**: A function is a reusable set of instructions. A function takes one or more inputs, performs certain operations, and often returns an output. Python provides many in-built functions like `print`, and also allows us to define our own functions."
   ]
  },
  {
   "cell_type": "code",
   "execution_count": 23,
   "metadata": {},
   "outputs": [
    {
     "name": "stdout",
     "output_type": "stream",
     "text": [
      "The grocery store makes a total profit of $ 125.0\n"
     ]
    }
   ],
   "source": [
    "print(\"The grocery store makes a total profit of $\", total_profit)"
   ]
  },
  {
   "cell_type": "markdown",
   "metadata": {},
   "source": [
    "> **`print`**: The `print` function is used to display information. It takes one or more inputs which can be text (within quotes e.g. `\"this is some text\"`), numbers, variables, mathematical expressions etc. We'll learn more about variables & functions in the next section.\n",
    "\n",
    "Creating a code cell for each variable or mathematical operation can get tedious. Fortunately, Jupyter allows you write multiple lines of code within a single code cell. Let's rewrite the solution to our word problem within a single cell."
   ]
  },
  {
   "cell_type": "code",
   "execution_count": 24,
   "metadata": {},
   "outputs": [
    {
     "name": "stdout",
     "output_type": "stream",
     "text": [
      "The grocery store makes a total profit of $ 125.0\n"
     ]
    }
   ],
   "source": [
    "# Store input data in variables\n",
    "cost_of_ice_bag = 1.25\n",
    "profit_margin = .2\n",
    "number_of_bags = 500\n",
    "\n",
    "# Perform the required calculations\n",
    "profit_per_bag = cost_of_ice_bag * profit_margin\n",
    "total_profit = number_of_bags * profit_per_bag\n",
    "\n",
    "# Display the result\n",
    "print(\"The grocery store makes a total profit of $\", total_profit)"
   ]
  },
  {
   "cell_type": "markdown",
   "metadata": {},
   "source": [
    "---\n",
    "Note that we're using the `#` character to add *comments* within our code. \n",
    "\n",
    "> **Comments**: Comments and blank lines are ignored during execution, but they are useful for providing information to other humans (including yourself) about what the code does. Comments can be inline (at the end of some code), on a separate line, or even span multiple lines. \n",
    "\n",
    "Inline and single line comments start with `#`, whereas multi-line comments begin and end with three quotes i.e `\"\"\"`. Here are some examples of code comments:\n",
    "\n",
    "---"
   ]
  },
  {
   "cell_type": "code",
   "execution_count": 25,
   "metadata": {},
   "outputs": [],
   "source": [
    "my_favorite_number = 1 # an inline comment"
   ]
  },
  {
   "cell_type": "code",
   "execution_count": 26,
   "metadata": {},
   "outputs": [],
   "source": [
    "# This comment gets its own line\n",
    "my_least_favorite_number = 3"
   ]
  },
  {
   "cell_type": "code",
   "execution_count": 28,
   "metadata": {},
   "outputs": [],
   "source": [
    "\"\"\"This is a multi-line comment.\n",
    "Write as little or as much as you'd like.\n",
    "\n",
    "Comments are really helpful for people reading\n",
    "your code, but try to keep them short & to-the-point.\n",
    "\n",
    "Also, if you use good variable names, then your code is\n",
    "often self explanatory, and you may not even need comments!\n",
    "\"\"\"\n",
    "a_neutral_number = 5"
   ]
  },
  {
   "cell_type": "markdown",
   "metadata": {},
   "source": [
    "---\n",
    "## Evaluating conditions using Python\n",
    "\n",
    "Apart from arithmetic operations, Python also provides several oprations for comparing numbers & variables.\n",
    "\n",
    "| Operator    | Description                                                     |\n",
    "|-------------|-----------------------------------------------------------------|\n",
    "| `==`        | Check if operands are equal                                     |\n",
    "| `!=`        | Check if operands are not equal                                 |\n",
    "| `>`         | Check if left operand is greater than right operand             |\n",
    "| `<`         | Check if left operand is less than right operand                |\n",
    "| `>=`        | Check if left operand is greater than or equal to right operand |\n",
    "| `<=`        | Check if left operand is less than or equal to right operand    |\n",
    "\n",
    "The result of a comparision operation is either `True` or `False` (note the uppercase `T` and `F`). These are special keywords in Python. Let's try out some experiment with comparision operators.\n",
    "\n",
    "---"
   ]
  },
  {
   "cell_type": "code",
   "execution_count": 29,
   "metadata": {},
   "outputs": [],
   "source": [
    "my_favorite_number = 1\n",
    "my_least_favorite_number = 5\n",
    "a_neutral_number = 3"
   ]
  },
  {
   "cell_type": "code",
   "execution_count": 30,
   "metadata": {},
   "outputs": [
    {
     "data": {
      "text/plain": [
       "True"
      ]
     },
     "execution_count": 30,
     "metadata": {},
     "output_type": "execute_result"
    }
   ],
   "source": [
    "# Equality check - True\n",
    "my_favorite_number == 1"
   ]
  },
  {
   "cell_type": "code",
   "execution_count": 31,
   "metadata": {},
   "outputs": [
    {
     "data": {
      "text/plain": [
       "False"
      ]
     },
     "execution_count": 31,
     "metadata": {},
     "output_type": "execute_result"
    }
   ],
   "source": [
    "# Equality check - False\n",
    "my_favorite_number == my_least_favorite_number"
   ]
  },
  {
   "cell_type": "code",
   "execution_count": 32,
   "metadata": {},
   "outputs": [
    {
     "data": {
      "text/plain": [
       "True"
      ]
     },
     "execution_count": 32,
     "metadata": {},
     "output_type": "execute_result"
    }
   ],
   "source": [
    "# Not equal check - True\n",
    "my_favorite_number != a_neutral_number"
   ]
  },
  {
   "cell_type": "code",
   "execution_count": 33,
   "metadata": {},
   "outputs": [
    {
     "data": {
      "text/plain": [
       "False"
      ]
     },
     "execution_count": 33,
     "metadata": {},
     "output_type": "execute_result"
    }
   ],
   "source": [
    "# Not equal check - False\n",
    "a_neutral_number != 3"
   ]
  },
  {
   "cell_type": "code",
   "execution_count": 34,
   "metadata": {},
   "outputs": [
    {
     "data": {
      "text/plain": [
       "True"
      ]
     },
     "execution_count": 34,
     "metadata": {},
     "output_type": "execute_result"
    }
   ],
   "source": [
    "# Greater than check - True\n",
    "my_least_favorite_number > a_neutral_number"
   ]
  },
  {
   "cell_type": "code",
   "execution_count": 35,
   "metadata": {},
   "outputs": [
    {
     "data": {
      "text/plain": [
       "False"
      ]
     },
     "execution_count": 35,
     "metadata": {},
     "output_type": "execute_result"
    }
   ],
   "source": [
    "# Greater than check - False\n",
    "my_favorite_number > my_least_favorite_number"
   ]
  },
  {
   "cell_type": "code",
   "execution_count": 36,
   "metadata": {},
   "outputs": [
    {
     "data": {
      "text/plain": [
       "True"
      ]
     },
     "execution_count": 36,
     "metadata": {},
     "output_type": "execute_result"
    }
   ],
   "source": [
    "# Less than check - True\n",
    "my_favorite_number < 10"
   ]
  },
  {
   "cell_type": "code",
   "execution_count": 37,
   "metadata": {},
   "outputs": [
    {
     "data": {
      "text/plain": [
       "False"
      ]
     },
     "execution_count": 37,
     "metadata": {},
     "output_type": "execute_result"
    }
   ],
   "source": [
    "# Less than check - False\n",
    "my_least_favorite_number < my_favorite_number"
   ]
  },
  {
   "cell_type": "code",
   "execution_count": 38,
   "metadata": {},
   "outputs": [
    {
     "data": {
      "text/plain": [
       "True"
      ]
     },
     "execution_count": 38,
     "metadata": {},
     "output_type": "execute_result"
    }
   ],
   "source": [
    "# Greater than or equal check - True\n",
    "my_favorite_number >= 1"
   ]
  },
  {
   "cell_type": "code",
   "execution_count": 39,
   "metadata": {},
   "outputs": [
    {
     "data": {
      "text/plain": [
       "False"
      ]
     },
     "execution_count": 39,
     "metadata": {},
     "output_type": "execute_result"
    }
   ],
   "source": [
    "# Greater than or equal check - False\n",
    "my_favorite_number >= 3"
   ]
  },
  {
   "cell_type": "code",
   "execution_count": 40,
   "metadata": {},
   "outputs": [
    {
     "data": {
      "text/plain": [
       "True"
      ]
     },
     "execution_count": 40,
     "metadata": {},
     "output_type": "execute_result"
    }
   ],
   "source": [
    "# Less than or equal check - True\n",
    "3 + 6 <= 9"
   ]
  },
  {
   "cell_type": "code",
   "execution_count": 41,
   "metadata": {},
   "outputs": [
    {
     "data": {
      "text/plain": [
       "False"
      ]
     },
     "execution_count": 41,
     "metadata": {},
     "output_type": "execute_result"
    }
   ],
   "source": [
    "# Less than or equal check - False\n",
    "my_favorite_number + a_neutral_number <= 3"
   ]
  },
  {
   "cell_type": "markdown",
   "metadata": {},
   "source": [
    "---\n",
    "Just like arithmetic operations, the result of a comparison opration can also be stored in a variable.\n",
    "\n",
    "---"
   ]
  },
  {
   "cell_type": "code",
   "execution_count": 42,
   "metadata": {},
   "outputs": [
    {
     "name": "stdout",
     "output_type": "stream",
     "text": [
      "Is the ice bag expensive? False\n"
     ]
    }
   ],
   "source": [
    "cost_of_ice_bag = 1.25\n",
    "is_ice_bag_expensive = cost_of_ice_bag >= 10\n",
    "print(\"Is the ice bag expensive?\", is_ice_bag_expensive)"
   ]
  },
  {
   "cell_type": "markdown",
   "metadata": {},
   "source": [
    "---\n",
    "## Combining conditions with logical operators\n",
    "\n",
    "The logical operators `and`, `or` and `not` operate upon conditions and `True` & `False` values (also known as *booleans*). `and` and `or` operate on two conditions, whereas `not` operates on a single condition.\n",
    "\n",
    "The `and` operator returns `True` when both the conditions evalute to `True`. Otherwise it returns `False`.\n",
    "\n",
    "| `a`     | `b`    | `a and b` |\n",
    "|---------|--------|-----------|\n",
    "|  `True` | `True` | `True`    |\n",
    "|  `True` | `False`| `False`   |\n",
    "|  `False`| `True` | `False`   |\n",
    "|  `False`| `False`| `False`   |\n"
   ]
  },
  {
   "cell_type": "code",
   "execution_count": 43,
   "metadata": {
    "scrolled": true
   },
   "outputs": [
    {
     "data": {
      "text/plain": [
       "1"
      ]
     },
     "execution_count": 43,
     "metadata": {},
     "output_type": "execute_result"
    }
   ],
   "source": [
    "my_favorite_number"
   ]
  },
  {
   "cell_type": "code",
   "execution_count": 44,
   "metadata": {},
   "outputs": [
    {
     "data": {
      "text/plain": [
       "True"
      ]
     },
     "execution_count": 44,
     "metadata": {},
     "output_type": "execute_result"
    }
   ],
   "source": [
    "my_favorite_number > 0 and my_favorite_number <= 3"
   ]
  },
  {
   "cell_type": "code",
   "execution_count": 45,
   "metadata": {},
   "outputs": [
    {
     "data": {
      "text/plain": [
       "False"
      ]
     },
     "execution_count": 45,
     "metadata": {},
     "output_type": "execute_result"
    }
   ],
   "source": [
    "my_favorite_number < 0 and my_favorite_number <= 3"
   ]
  },
  {
   "cell_type": "code",
   "execution_count": 46,
   "metadata": {},
   "outputs": [
    {
     "data": {
      "text/plain": [
       "False"
      ]
     },
     "execution_count": 46,
     "metadata": {},
     "output_type": "execute_result"
    }
   ],
   "source": [
    "my_favorite_number > 0 and my_favorite_number >= 3"
   ]
  },
  {
   "cell_type": "code",
   "execution_count": 47,
   "metadata": {},
   "outputs": [
    {
     "data": {
      "text/plain": [
       "False"
      ]
     },
     "execution_count": 47,
     "metadata": {},
     "output_type": "execute_result"
    }
   ],
   "source": [
    "True and False"
   ]
  },
  {
   "cell_type": "code",
   "execution_count": 48,
   "metadata": {},
   "outputs": [
    {
     "data": {
      "text/plain": [
       "True"
      ]
     },
     "execution_count": 48,
     "metadata": {},
     "output_type": "execute_result"
    }
   ],
   "source": [
    "True and True"
   ]
  },
  {
   "cell_type": "markdown",
   "metadata": {},
   "source": [
    "---\n",
    "The `or` operator returns `True` if at least one of the conditions evalute to `True`. It returns `False` only if both conditions are `False`.\n",
    "\n",
    "| `a`     | `b`    | `a or b`  |\n",
    "|---------|--------|-----------|\n",
    "|  `True` | `True` | `True`    |\n",
    "|  `True` | `False`| `True`    |\n",
    "|  `False`| `True` | `True`    |\n",
    "|  `False`| `False`| `False`   |\n",
    "\n",
    "---"
   ]
  },
  {
   "cell_type": "code",
   "execution_count": 49,
   "metadata": {},
   "outputs": [],
   "source": [
    "a_neutral_number = 3"
   ]
  },
  {
   "cell_type": "code",
   "execution_count": 50,
   "metadata": {},
   "outputs": [
    {
     "data": {
      "text/plain": [
       "True"
      ]
     },
     "execution_count": 50,
     "metadata": {},
     "output_type": "execute_result"
    }
   ],
   "source": [
    "a_neutral_number == 3 or my_favorite_number < 0"
   ]
  },
  {
   "cell_type": "code",
   "execution_count": 51,
   "metadata": {},
   "outputs": [
    {
     "data": {
      "text/plain": [
       "False"
      ]
     },
     "execution_count": 51,
     "metadata": {},
     "output_type": "execute_result"
    }
   ],
   "source": [
    "a_neutral_number != 3 or my_favorite_number < 0"
   ]
  },
  {
   "cell_type": "code",
   "execution_count": 52,
   "metadata": {},
   "outputs": [
    {
     "data": {
      "text/plain": [
       "True"
      ]
     },
     "execution_count": 52,
     "metadata": {},
     "output_type": "execute_result"
    }
   ],
   "source": [
    "my_favorite_number < 0 or True"
   ]
  },
  {
   "cell_type": "code",
   "execution_count": 53,
   "metadata": {},
   "outputs": [
    {
     "data": {
      "text/plain": [
       "False"
      ]
     },
     "execution_count": 53,
     "metadata": {},
     "output_type": "execute_result"
    }
   ],
   "source": [
    "False or False"
   ]
  },
  {
   "cell_type": "markdown",
   "metadata": {},
   "source": [
    "---\n",
    "The `not` operator returns `False` if a condition is `True` and `True` if the condition is `False`.\n",
    "\n",
    "---"
   ]
  },
  {
   "cell_type": "code",
   "execution_count": 54,
   "metadata": {},
   "outputs": [
    {
     "data": {
      "text/plain": [
       "False"
      ]
     },
     "execution_count": 54,
     "metadata": {},
     "output_type": "execute_result"
    }
   ],
   "source": [
    "not a_neutral_number == 3"
   ]
  },
  {
   "cell_type": "code",
   "execution_count": 55,
   "metadata": {},
   "outputs": [
    {
     "data": {
      "text/plain": [
       "True"
      ]
     },
     "execution_count": 55,
     "metadata": {},
     "output_type": "execute_result"
    }
   ],
   "source": [
    "not my_favorite_number < 0"
   ]
  },
  {
   "cell_type": "code",
   "execution_count": 56,
   "metadata": {},
   "outputs": [
    {
     "data": {
      "text/plain": [
       "True"
      ]
     },
     "execution_count": 56,
     "metadata": {},
     "output_type": "execute_result"
    }
   ],
   "source": [
    "not False"
   ]
  },
  {
   "cell_type": "code",
   "execution_count": 57,
   "metadata": {},
   "outputs": [
    {
     "data": {
      "text/plain": [
       "False"
      ]
     },
     "execution_count": 57,
     "metadata": {},
     "output_type": "execute_result"
    }
   ],
   "source": [
    "not True"
   ]
  },
  {
   "cell_type": "markdown",
   "metadata": {},
   "source": [
    "Logical operators can be combined to form complex conditions. Use round brackets or parantheses `(` and `)` to indicate the order in which logical operators should be applied."
   ]
  },
  {
   "cell_type": "code",
   "execution_count": 58,
   "metadata": {},
   "outputs": [
    {
     "data": {
      "text/plain": [
       "True"
      ]
     },
     "execution_count": 58,
     "metadata": {},
     "output_type": "execute_result"
    }
   ],
   "source": [
    "(2 > 3 and 4 <= 5) or not (my_favorite_number < 0 and True)"
   ]
  },
  {
   "cell_type": "code",
   "execution_count": 59,
   "metadata": {},
   "outputs": [
    {
     "data": {
      "text/plain": [
       "False"
      ]
     },
     "execution_count": 59,
     "metadata": {},
     "output_type": "execute_result"
    }
   ],
   "source": [
    "not (True and 0 < 1) or (False and True)"
   ]
  },
  {
   "cell_type": "markdown",
   "metadata": {},
   "source": [
    "If parantheses are not used, logical operators are applied from left to right."
   ]
  },
  {
   "cell_type": "code",
   "execution_count": 60,
   "metadata": {},
   "outputs": [
    {
     "data": {
      "text/plain": [
       "False"
      ]
     },
     "execution_count": 60,
     "metadata": {},
     "output_type": "execute_result"
    }
   ],
   "source": [
    "not True and 0 < 1 or False and True"
   ]
  },
  {
   "cell_type": "markdown",
   "metadata": {},
   "source": [
    "---\n",
    "Experiment with arithmetic, conditional and logical operators in Python using the interactive nature of Jupyter notebook. We will learn more about variables and functions in future tutorials.\n",
    "\n",
    "---"
   ]
  },
  {
   "cell_type": "markdown",
   "metadata": {},
   "source": [
    "## Adding text styles using Markdown\n",
    "\n",
    "Adding explanations using text cells (like this one) is great way to make your notebook informative for other readers, and for yourself, if you need to refer back to it in the future. Double click on a text cell within Jupyter to edit it. In the edit mode, you'll notice that the text looks a little different (for instance the heading has a `##` prefix. This text is writted using Markdown, a simple way to add styles to your text. Execute this cell to see the output without the special characters. You can switch back and forth between the source and the output to see how to create a specific style.\n",
    "\n",
    "For, instance, you can use one or more `#` characters at the start of a line to create headers of different sizes:\n",
    "\n",
    "# Header 1\n",
    "\n",
    "## Header 2\n",
    "\n",
    "### Header 3\n",
    "\n",
    "#### Header 4\n",
    "\n",
    "To create a bulleted or numbered list, simply start a line with `*` or `1.`.\n",
    "\n",
    "A bulleted list:\n",
    "\n",
    "* Item 1\n",
    "* Item 2\n",
    "* Item 3\n",
    "\n",
    "A numbered list:\n",
    "\n",
    "1. Apple\n",
    "2. Banana\n",
    "3. Pineapple\n",
    "\n",
    "You can make some text bold using `**` e.g. **this is some bold text**, or make it italic using `*` e.g. *this is some italic text.* You can also create links e.g. [this is a link](https://jovian.ml). Images are easily embedded too:\n",
    "\n",
    "![](https://i.imgur.com/7ndD3nX.png)\n",
    "\n",
    "Another really nice feature of Markdown is ability to include blocks of code. Note that code blocks inside Markdown cells cannot be executed.\n",
    "\n",
    "```Python\n",
    "# Perform the required calculations\n",
    "profit_per_bag = cost_of_ice_bag * profit_margin\n",
    "total_profit = number_of_bags * profit_per_bag\n",
    "\n",
    "# Display the result\n",
    "print(\"The grocery store makes a total profit of $\", total_profit)\n",
    "\n",
    "```\n",
    "\n",
    "You can learn the full syntax of Markdown here: https://learnxinyminutes.com/docs/markdown/"
   ]
  },
  {
   "cell_type": "markdown",
   "metadata": {},
   "source": [
    "## Save and upload your notebook\n",
    "\n",
    "Whether you're running this Jupyter notebook on an online service like Binder or on your local machine, it's important to save your work from time, so that you can access it later, or share it online. You can upload this notebook to your [Jovian.ml](https://jovian.ml) account using the `jovian` Python library.\n",
    "\n",
    "First, you need to install the Jovian python library, if it isn't already installed."
   ]
  },
  {
   "cell_type": "markdown",
   "metadata": {},
   "source": [
    "---\n",
    "```Python\n",
    "!pip install jovian --upgrade --quiet\n",
    "```\n",
    "\n",
    "---"
   ]
  },
  {
   "cell_type": "markdown",
   "metadata": {},
   "source": [
    "Next, the library needs to be imported."
   ]
  },
  {
   "cell_type": "code",
   "execution_count": 61,
   "metadata": {},
   "outputs": [],
   "source": [
    "import jovian"
   ]
  },
  {
   "cell_type": "markdown",
   "metadata": {},
   "source": [
    "Finally, you can run `jovian.commit` to capture and upload a snapshot of the notebook."
   ]
  },
  {
   "cell_type": "code",
   "execution_count": 62,
   "metadata": {},
   "outputs": [
    {
     "data": {
      "application/javascript": [
       "window.require && require([\"base/js/namespace\"],function(Jupyter){Jupyter.notebook.save_checkpoint()})"
      ],
      "text/plain": [
       "<IPython.core.display.Javascript object>"
      ]
     },
     "metadata": {},
     "output_type": "display_data"
    },
    {
     "name": "stdout",
     "output_type": "stream",
     "text": [
      "[jovian] Attempting to save notebook..\n",
      "[jovian] Please enter your API key ( from https://jovian.ml/ ):\n",
      "API KEY: "
     ]
    },
    {
     "name": "stdin",
     "output_type": "stream",
     "text": [
      " ·················································································································································································································································································································\n"
     ]
    },
    {
     "name": "stdout",
     "output_type": "stream",
     "text": [
      "[jovian] Creating a new project \"uwsd/W1P1-first-steps-with-python\"\n",
      "[jovian] Uploading notebook..\n",
      "[jovian] Capturing environment..\n",
      "[jovian] Committed successfully! https://jovian.ml/uwsd/w1p1-first-steps-with-python\n"
     ]
    },
    {
     "data": {
      "text/plain": [
       "'https://jovian.ml/uwsd/w1p1-first-steps-with-python'"
      ]
     },
     "execution_count": 62,
     "metadata": {},
     "output_type": "execute_result"
    }
   ],
   "source": [
    "jovian.commit(project='W1P1-first-steps-with-python')"
   ]
  },
  {
   "cell_type": "markdown",
   "metadata": {},
   "source": [
    "The first time you run `jovian.commit`, you'll be asked to provide an API Key, to securely upload the notebook to your Jovian.ml account. You can get the API key from your Jovian.ml profile page after logging in / signing up.\n",
    "\n",
    "![api-key](https://i.imgur.com/YGGLH3e.png)\n",
    "\n",
    "`jovian.commit` uploads the notebook to your Jovian.ml account, captures the Python environment and creates a shareable link for your notebook as shown above. You can use this link to share your work and let anyone (including you) run your notebooks and reproduce your work. Jovian also includes a powerful commenting interface, so you can discuss & comment on specific parts of your notebook:\n",
    "\n",
    "![https://jovian.ml/docs/user-guide/upload.html](https://i.imgur.com/kxx3pqM.png)\n",
    "\n",
    "You can do a lot more with the `jovian` Python library. Visit the documentation site to learn more: https://jovian.ml/docs/index.html"
   ]
  },
  {
   "cell_type": "markdown",
   "metadata": {},
   "source": [
    "---\n",
    "## Further Reading and References\n",
    "\n",
    "Following are some resources to learn about more arithmetic, conditional and logical operations in Python:\n",
    "\n",
    "* Python Tutorial at W3Schools: https://www.w3schools.com/python/\n",
    "* Practical Python Programming: https://dabeaz-course.github.io/practical-python/Notes/Contents.html\n",
    "* Python official documentation: https://docs.python.org/3/tutorial/index.html"
   ]
  },
  {
   "cell_type": "code",
   "execution_count": null,
   "metadata": {},
   "outputs": [],
   "source": []
  }
 ],
 "metadata": {
  "kernelspec": {
   "display_name": "zerotopandas",
   "language": "python",
   "name": "zerotopandas"
  },
  "language_info": {
   "codemirror_mode": {
    "name": "ipython",
    "version": 3
   },
   "file_extension": ".py",
   "mimetype": "text/x-python",
   "name": "python",
   "nbconvert_exporter": "python",
   "pygments_lexer": "ipython3",
   "version": "3.8.5"
  }
 },
 "nbformat": 4,
 "nbformat_minor": 4
}
