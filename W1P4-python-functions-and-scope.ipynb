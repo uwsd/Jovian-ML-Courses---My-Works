{
 "cells": [
  {
   "cell_type": "markdown",
   "metadata": {},
   "source": [
    "# My (uwsd) works on:\n",
    "\n",
    "> ## Data Analysis with Python: Zero to Pandas\n",
    "By **[Aakash](https://twitter.com/aakashns)**, August 2020, [Jovian ML certified Course](https://jovian.ml/learn/data-analysis-with-python-zero-to-pandas)\n",
    "> ### Week 1 - Part 4\n",
    "\n",
    "[![Python](https://img.shields.io/badge/python-3.8.5-blue)]()\n",
    "[![pandas](https://img.shields.io/badge/pandas-1.1.0-blue)]()\n",
    "[![numpy](https://img.shields.io/badge/numpy-1.19.1-blue)]()\n",
    "[![matplotlib](https://img.shields.io/badge/matplotlib-3.3.0-blue)]()\n",
    "[![seaborn](https://img.shields.io/badge/seaborn-0.10.1-blue)]()\n",
    "\n",
    "---"
   ]
  },
  {
   "cell_type": "code",
   "execution_count": 1,
   "metadata": {},
   "outputs": [
    {
     "data": {
      "application/javascript": [
       "if (window.IPython && IPython.notebook.kernel) IPython.notebook.kernel.execute('jovian.utils.jupyter.get_notebook_name_saved = lambda: \"' + IPython.notebook.notebook_name + '\"')"
      ],
      "text/plain": [
       "<IPython.core.display.Javascript object>"
      ]
     },
     "metadata": {},
     "output_type": "display_data"
    },
    {
     "name": "stdout",
     "output_type": "stream",
     "text": [
      "uwsd \n",
      "last updated: Mon Aug 17 2020 22:08:46 \n",
      "\n",
      "CPython 3.8.5\n",
      "IPython 7.17.0\n",
      "\n",
      "numpy 1.19.1\n",
      "pandas 1.1.0\n",
      "matplotlib 3.3.1\n",
      "seaborn 0.10.1\n",
      "jovian 0.2.18\n"
     ]
    }
   ],
   "source": [
    "%reload_ext watermark\n",
    "%watermark -a uwsd -u -v -n -t -p numpy,pandas,matplotlib,seaborn,jovian"
   ]
  },
  {
   "cell_type": "code",
   "execution_count": 2,
   "metadata": {},
   "outputs": [],
   "source": [
    "import numpy as np\n",
    "import pandas as pd\n",
    "\n",
    "%matplotlib inline\n",
    "from matplotlib import pyplot as plt\n",
    "%matplotlib inline\n",
    "plt.rcParams.update({\n",
    "    'figure.figsize': (12, 8),\n",
    "    'axes.spines.right': False,\n",
    "    'axes.spines.left': True,\n",
    "    'axes.spines.top': False,\n",
    "    'axes.spines.bottom': True})\n",
    "\n",
    "import seaborn as sns\n",
    "\n",
    "import jovian"
   ]
  },
  {
   "cell_type": "markdown",
   "metadata": {},
   "source": [
    "---"
   ]
  },
  {
   "cell_type": "markdown",
   "metadata": {},
   "source": [
    "# Writing Reusable Code Using Functions in Python\n",
    "### Part 4 of \"A Gentle Introduction to Programming with Python\"\n",
    "\n",
    "This tutorial is the forth in a series on introduction to programming using the Python language. These tutorials take a practical coding-based approach, and the best way to learn the material is to execute the code and experiment with the examples. "
   ]
  },
  {
   "cell_type": "markdown",
   "metadata": {},
   "source": [
    "---\n",
    "## Creating and using functions\n",
    "\n",
    "A function is a reusable set of instructions. A function takes one or more inputs, performs certain operations, and often returns an output. Python provides many in-built functions like `print`, and also allows us to define our own functions.\n",
    "\n",
    "You can define a new function using the `def` keyword.\n",
    "\n",
    "---"
   ]
  },
  {
   "cell_type": "code",
   "execution_count": 3,
   "metadata": {},
   "outputs": [],
   "source": [
    "def say_hello():\n",
    "    print('Hello there!')\n",
    "    print('How are you?')"
   ]
  },
  {
   "cell_type": "markdown",
   "metadata": {},
   "source": [
    "---\n",
    "Note the round brackets or parantheses `()` and colon `:` after the function's name. Both are essential parts of the syntax for defining a function. The *body* of the function can contain one or more statements which are to be executed when the function is called. Simlar to conditional statements and loops, the statements must be indented by 4 spaces.\n",
    "\n",
    "The statements inside a function's body are not executed when a function is defined. To execute the statements, we need to `call` the function.\n",
    "\n",
    "---"
   ]
  },
  {
   "cell_type": "code",
   "execution_count": 4,
   "metadata": {},
   "outputs": [
    {
     "name": "stdout",
     "output_type": "stream",
     "text": [
      "Hello there!\n",
      "How are you?\n"
     ]
    }
   ],
   "source": [
    "say_hello()"
   ]
  },
  {
   "cell_type": "markdown",
   "metadata": {},
   "source": [
    "---\n",
    "### Function Arguments and Return Values\n",
    "\n",
    "Functions can also accept one or more values as *inputs*, *arguments* or *parameters*. Arguments help us write flexible functions which can perform the same operation on different values. \n",
    "\n",
    "---"
   ]
  },
  {
   "cell_type": "code",
   "execution_count": 5,
   "metadata": {},
   "outputs": [],
   "source": [
    "def say_hello(name):\n",
    "    print('Hello {}!'.format(name))\n",
    "    print('How are you?')"
   ]
  },
  {
   "cell_type": "code",
   "execution_count": 6,
   "metadata": {},
   "outputs": [
    {
     "name": "stdout",
     "output_type": "stream",
     "text": [
      "Hello John!\n",
      "How are you?\n"
     ]
    }
   ],
   "source": [
    "say_hello('John')"
   ]
  },
  {
   "cell_type": "code",
   "execution_count": 7,
   "metadata": {},
   "outputs": [
    {
     "name": "stdout",
     "output_type": "stream",
     "text": [
      "Hello Jane!\n",
      "How are you?\n"
     ]
    }
   ],
   "source": [
    "say_hello('Jane')"
   ]
  },
  {
   "cell_type": "markdown",
   "metadata": {},
   "source": [
    "---\n",
    "Here's an example of a function with two arguments.\n",
    "\n",
    "---"
   ]
  },
  {
   "cell_type": "code",
   "execution_count": 8,
   "metadata": {},
   "outputs": [],
   "source": [
    "def greet(name, city):\n",
    "    print(f'Hello {name}!')\n",
    "    print(f\"How's the weather in {city}?\")"
   ]
  },
  {
   "cell_type": "code",
   "execution_count": 9,
   "metadata": {},
   "outputs": [
    {
     "name": "stdout",
     "output_type": "stream",
     "text": [
      "Hello John!\n",
      "How's the weather in San Francisco?\n"
     ]
    }
   ],
   "source": [
    "greet('John', 'San Francisco')"
   ]
  },
  {
   "cell_type": "code",
   "execution_count": 10,
   "metadata": {},
   "outputs": [
    {
     "name": "stdout",
     "output_type": "stream",
     "text": [
      "Hello Jane!\n",
      "How's the weather in Berlin?\n"
     ]
    }
   ],
   "source": [
    "greet('Jane', 'Berlin')"
   ]
  },
  {
   "cell_type": "markdown",
   "metadata": {},
   "source": [
    "---\n",
    "## Saving the notebook to jovianML"
   ]
  },
  {
   "cell_type": "code",
   "execution_count": 11,
   "metadata": {},
   "outputs": [
    {
     "data": {
      "application/javascript": [
       "window.require && require([\"base/js/namespace\"],function(Jupyter){Jupyter.notebook.save_checkpoint()})"
      ],
      "text/plain": [
       "<IPython.core.display.Javascript object>"
      ]
     },
     "metadata": {},
     "output_type": "display_data"
    },
    {
     "name": "stdout",
     "output_type": "stream",
     "text": [
      "[jovian] Attempting to save notebook..\n",
      "[jovian] Creating a new project \"uwsd/W1P4-python-functions-and-scope\"\n",
      "[jovian] Uploading notebook..\n",
      "[jovian] Capturing environment..\n",
      "[jovian] Committed successfully! https://jovian.ml/uwsd/w1p4-python-functions-and-scope\n"
     ]
    },
    {
     "data": {
      "text/plain": [
       "'https://jovian.ml/uwsd/w1p4-python-functions-and-scope'"
      ]
     },
     "execution_count": 11,
     "metadata": {},
     "output_type": "execute_result"
    }
   ],
   "source": [
    "jovian.commit(project='W1P4-python-functions-and-scope')"
   ]
  },
  {
   "cell_type": "code",
   "execution_count": null,
   "metadata": {},
   "outputs": [],
   "source": []
  }
 ],
 "metadata": {
  "kernelspec": {
   "display_name": "zerotopandas",
   "language": "python",
   "name": "zerotopandas"
  },
  "language_info": {
   "codemirror_mode": {
    "name": "ipython",
    "version": 3
   },
   "file_extension": ".py",
   "mimetype": "text/x-python",
   "name": "python",
   "nbconvert_exporter": "python",
   "pygments_lexer": "ipython3",
   "version": "3.8.5"
  }
 },
 "nbformat": 4,
 "nbformat_minor": 4
}
